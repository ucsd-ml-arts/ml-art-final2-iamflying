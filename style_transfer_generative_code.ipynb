{
 "cells": [
  {
   "cell_type": "markdown",
   "metadata": {},
   "source": [
    "# Video style transfer"
   ]
  },
  {
   "cell_type": "code",
   "execution_count": 1,
   "metadata": {},
   "outputs": [],
   "source": [
    "import cv2\n",
    "import os\n",
    "import pathlib"
   ]
  },
  {
   "cell_type": "code",
   "execution_count": 15,
   "metadata": {},
   "outputs": [],
   "source": [
    "video_name = 'Titanic'"
   ]
  },
  {
   "cell_type": "code",
   "execution_count": 16,
   "metadata": {},
   "outputs": [],
   "source": [
    "video_path = '{}/videos/'.format(os.getcwd())\n",
    "video_pathlib = pathlib.Path(video_path)\n",
    "if not video_pathlib.exists():\n",
    "    pathlib.Path(video_pathlib).mkdir(parents=True, exist_ok=True)"
   ]
  },
  {
   "cell_type": "code",
   "execution_count": 17,
   "metadata": {},
   "outputs": [],
   "source": [
    "frame_path = '{}/frames/{}/'.format(os.getcwd(), video_name)\n",
    "frame_pathlib = pathlib.Path(frame_path)\n",
    "if not frame_pathlib.exists():\n",
    "    pathlib.Path(frame_pathlib).mkdir(parents=True, exist_ok=True)"
   ]
  },
  {
   "cell_type": "markdown",
   "metadata": {},
   "source": [
    "convert raw video to image sequence"
   ]
  },
  {
   "cell_type": "code",
   "execution_count": 6,
   "metadata": {},
   "outputs": [],
   "source": [
    "cap= cv2.VideoCapture(video_path+'{}.mp4'.format(video_name))\n",
    "i=0\n",
    "while(cap.isOpened()):\n",
    "    ret, frame = cap.read()\n",
    "    if ret == False:\n",
    "        break\n",
    "    cv2.imwrite(frame_path+'frame{}.jpg'.format(str(i).zfill(4)),frame)\n",
    "    i+=1\n",
    "\n",
    "cap.release()\n",
    "cv2.destroyAllWindows()"
   ]
  },
  {
   "cell_type": "markdown",
   "metadata": {},
   "source": [
    "prepare the model"
   ]
  },
  {
   "cell_type": "code",
   "execution_count": 6,
   "metadata": {},
   "outputs": [
    {
     "name": "stdout",
     "output_type": "stream",
     "text": [
      "--2019-06-05 12:54:55--  https://s3-us-west-2.amazonaws.com/wengaoye/vgg19_normalised.npz\n",
      "Resolving web.ucsd.edu (web.ucsd.edu)... 132.239.1.231, 132.239.1.230\n",
      "Connecting to web.ucsd.edu (web.ucsd.edu)|132.239.1.231|:3128... connected.\n",
      "Proxy request sent, awaiting response... 200 OK\n",
      "Length: 160200914 (153M) [application/x-www-form-urlencoded]\n",
      "Saving to: ‘vgg19_normalised.npz.1’\n",
      "\n",
      "vgg19_normalised.np 100%[===================>] 152.78M  71.0MB/s    in 2.2s    \n",
      "\n",
      "2019-06-05 12:54:58 (71.0 MB/s) - ‘vgg19_normalised.npz.1’ saved [160200914/160200914]\n",
      "\n",
      "--2019-06-05 12:54:58--  https://s3-us-west-2.amazonaws.com/wengaoye/arbitrary_style_model_style-weight-2e0.zip\n",
      "Resolving web.ucsd.edu (web.ucsd.edu)... 132.239.1.230, 132.239.1.231\n",
      "Connecting to web.ucsd.edu (web.ucsd.edu)|132.239.1.230|:3128... connected.\n",
      "Proxy request sent, awaiting response... 200 OK\n",
      "Length: 59094122 (56M) [application/zip]\n",
      "Saving to: ‘arbitrary_style_model_style-weight-2e0.zip.2’\n",
      "\n",
      "arbitrary_style_mod 100%[===================>]  56.36M  55.4MB/s    in 1.0s    \n",
      "\n",
      "2019-06-05 12:55:00 (55.4 MB/s) - ‘arbitrary_style_model_style-weight-2e0.zip.2’ saved [59094122/59094122]\n",
      "\n",
      "Archive:  arbitrary_style_model_style-weight-2e0.zip\n",
      "replace models/style_weight_2e0.ckpt.meta? [y]es, [n]o, [A]ll, [N]one, [r]ename: ^C\n"
     ]
    }
   ],
   "source": [
    "!wget https://s3-us-west-2.amazonaws.com/wengaoye/vgg19_normalised.npz\n",
    "!wget https://s3-us-west-2.amazonaws.com/wengaoye/arbitrary_style_model_style-weight-2e0.zip\n",
    "!unzip arbitrary_style_model_style-weight-2e0.zip"
   ]
  },
  {
   "cell_type": "code",
   "execution_count": 18,
   "metadata": {},
   "outputs": [],
   "source": [
    "from __future__ import print_function\n",
    "\n",
    "from infer import stylize\n",
    "from utils import list_images"
   ]
  },
  {
   "cell_type": "markdown",
   "metadata": {},
   "source": [
    "style transfer"
   ]
  },
  {
   "cell_type": "code",
   "execution_count": 25,
   "metadata": {},
   "outputs": [],
   "source": [
    "style_path = '{}/style'.format(os.getcwd())\n",
    "tf_frame_path = []\n",
    "for img in os.listdir(style_path):\n",
    "    tf_frame_path.append('{}/tf_frames/{}/{}/'.format(os.getcwd(), img[:-4], video_name))\n",
    "    tf_frame_pathlib = pathlib.Path(tf_frame_path[-1])\n",
    "    if not tf_frame_pathlib.exists():\n",
    "        pathlib.Path(tf_frame_pathlib).mkdir(parents=True, exist_ok=True)"
   ]
  },
  {
   "cell_type": "code",
   "execution_count": 20,
   "metadata": {},
   "outputs": [],
   "source": [
    "encoder_weights_path = 'vgg19_normalised.npz'\n",
    "style_weights = [2.0]\n",
    "model_save_paths = [\n",
    "    'models/style_weight_2e0.ckpt',\n",
    "]"
   ]
  },
  {
   "cell_type": "code",
   "execution_count": 29,
   "metadata": {},
   "outputs": [
    {
     "name": "stdout",
     "output_type": "stream",
     "text": [
      "\n",
      ">>> Begin to stylize images with style weight: 2.00\n",
      "\n",
      "INFO:tensorflow:Restoring parameters from models/style_weight_2e0.ckpt\n",
      "\n",
      ">>> Successfully! Done all stylizing...\n",
      "\n"
     ]
    }
   ],
   "source": [
    "# single style\n",
    "content_imgs_path = list_images(frame_path)\n",
    "style_imgs_path   = list_images(style_path)\n",
    "\n",
    "for style_weight, model_save_path in zip(style_weights, model_save_paths):\n",
    "    print('\\n>>> Begin to stylize images with style weight: %.2f\\n' % style_weight)\n",
    "\n",
    "    for style, path in zip(style_imgs_path, tf_frame_path):\n",
    "        stylize(content_imgs_path, style, path[:-1], \n",
    "                encoder_weights_path, model_save_path, \n",
    "                suffix='-' + str(style_weight))\n",
    "\n",
    "print('\\n>>> Successfully! Done all stylizing...\\n')"
   ]
  },
  {
   "cell_type": "code",
   "execution_count": 26,
   "metadata": {},
   "outputs": [],
   "source": [
    "mixed_path = '{}/tf_frames/mixed/'.format(os.getcwd())\n",
    "mixed_pathlib = pathlib.Path(mixed_path)\n",
    "if not mixed_pathlib.exists():\n",
    "    pathlib.Path(mixed_pathlib).mkdir(parents=True, exist_ok=True)"
   ]
  },
  {
   "cell_type": "markdown",
   "metadata": {},
   "source": [
    "convert to video"
   ]
  },
  {
   "cell_type": "code",
   "execution_count": 30,
   "metadata": {},
   "outputs": [],
   "source": [
    "output_path = '{}/outputs'.format(os.getcwd())\n",
    "output_pathlib = pathlib.Path(output_path)\n",
    "if not output_pathlib.exists():\n",
    "    pathlib.Path(output_pathlib).mkdir(parents=True, exist_ok=True)"
   ]
  },
  {
   "cell_type": "code",
   "execution_count": 40,
   "metadata": {},
   "outputs": [],
   "source": [
    "# single style\n",
    "for path, style in zip(tf_frame_path, [style[:-4] for style in os.listdir(style_path)]):\n",
    "    tf_video_name = '{}/{}_{}.avi'.format(output_path, 'udnie', video_name)\n",
    "    images = [img for img in os.listdir(path) if img.endswith(\".jpg\")]\n",
    "    images = sorted(images, key=lambda img: int(img[5:9]))\n",
    "    frame = cv2.imread(os.path.join(path, images[0]))\n",
    "    height, width, layers = frame.shape\n",
    "\n",
    "    video = cv2.VideoWriter(tf_video_name, 0, 16, (width,height))\n",
    "\n",
    "    for image in images:\n",
    "        video.write(cv2.imread(os.path.join(path, image)))\n",
    "\n",
    "    cv2.destroyAllWindows()\n",
    "    video.release()"
   ]
  }
 ],
 "metadata": {
  "kernelspec": {
   "display_name": "Python 3",
   "language": "python",
   "name": "python3"
  },
  "language_info": {
   "codemirror_mode": {
    "name": "ipython",
    "version": 3
   },
   "file_extension": ".py",
   "mimetype": "text/x-python",
   "name": "python",
   "nbconvert_exporter": "python",
   "pygments_lexer": "ipython3",
   "version": "3.6.8"
  }
 },
 "nbformat": 4,
 "nbformat_minor": 2
}
